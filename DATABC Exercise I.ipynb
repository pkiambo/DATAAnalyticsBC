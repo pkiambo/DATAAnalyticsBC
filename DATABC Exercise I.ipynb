{
 "cells": [
  {
   "cell_type": "markdown",
   "metadata": {},
   "source": [
    "# Module 1 Exercises - Basic Python"
   ]
  },
  {
   "cell_type": "markdown",
   "metadata": {},
   "source": [
    "### Exercise 1:\n",
    "Create a variable that has an int value and another variable that has a float value. Write code that prints the product (multiply the two variables together).\n",
    "\n",
    "*Hint*: To multiply numbers in Python, use the asterisk sign (*). "
   ]
  },
  {
   "cell_type": "code",
   "execution_count": 15,
   "metadata": {},
   "outputs": [
    {
     "name": "stdout",
     "output_type": "stream",
     "text": [
      "618.0\n"
     ]
    }
   ],
   "source": [
    "#integer\n",
    "x = 75\n",
    "#float\n",
    "y = 8.24\n",
    "\n",
    "z = x*y\n",
    "print(z)"
   ]
  },
  {
   "cell_type": "markdown",
   "metadata": {},
   "source": [
    "### Exercise 2:\n",
    "\n",
    "Make a list of all the months in the year. Write code that uses a loop to go through the list, print out the month and the number of characters (length) for each month word."
   ]
  },
  {
   "cell_type": "code",
   "execution_count": 13,
   "metadata": {},
   "outputs": [
    {
     "name": "stdout",
     "output_type": "stream",
     "text": [
      "January\n",
      "7\n",
      "February\n",
      "8\n",
      "March\n",
      "5\n",
      "April\n",
      "5\n",
      "May\n",
      "3\n",
      "June\n",
      "4\n",
      "July\n",
      "4\n",
      "August\n",
      "6\n",
      "September\n",
      "9\n",
      "October\n",
      "7\n",
      "November\n",
      "8\n",
      "December\n",
      "8\n"
     ]
    }
   ],
   "source": [
    "month = ['January', 'February', 'March', 'April', 'May', 'June', 'July', 'August', 'September', 'October', 'November', 'December']\n",
    "\n",
    "for month in month:\n",
    "    print(month)\n",
    "    print(len(month))"
   ]
  },
  {
   "cell_type": "code",
   "execution_count": null,
   "metadata": {},
   "outputs": [],
   "source": []
  },
  {
   "cell_type": "markdown",
   "metadata": {},
   "source": [
    "### Exercise 3:\n",
    "Create a dictionary with keys \"movie\" and \"season\", with the values being your favorite movie and season. Then write code to print out \"My favorite [key] is [value]\"."
   ]
  },
  {
   "cell_type": "code",
   "execution_count": 7,
   "metadata": {
    "scrolled": true
   },
   "outputs": [
    {
     "name": "stdout",
     "output_type": "stream",
     "text": [
      "My favorite Shrek is Summer\n",
      "My favorite Mickey Mouse is Winter\n"
     ]
    }
   ],
   "source": [
    "movie = {'Shrek' : 'Summer',\n",
    "        'Mickey Mouse' : 'Winter'}\n",
    "\n",
    "for movie, season in movie.items(): \n",
    "    print('My favorite ' + movie + \" is \" + season)"
   ]
  },
  {
   "cell_type": "markdown",
   "metadata": {},
   "source": [
    "### Exercise 4:\n",
    "Create a customized function (def) that divides two variables and returns the result of their division. Then call your function using the variables you made in Exercise 1. \n",
    "\n",
    "*Hint*: To divide numbers in Python, use the forward slash (/)."
   ]
  },
  {
   "cell_type": "code",
   "execution_count": 12,
   "metadata": {},
   "outputs": [
    {
     "data": {
      "text/plain": [
       "9.101941747572816"
      ]
     },
     "execution_count": 12,
     "metadata": {},
     "output_type": "execute_result"
    }
   ],
   "source": [
    "def divNum(num1, num2):\n",
    "    return num1 / num2\n",
    "\n",
    "divNum(x, y)"
   ]
  },
  {
   "cell_type": "code",
   "execution_count": null,
   "metadata": {},
   "outputs": [],
   "source": []
  }
 ],
 "metadata": {
  "kernelspec": {
   "display_name": "Python 3",
   "language": "python",
   "name": "python3"
  },
  "language_info": {
   "codemirror_mode": {
    "name": "ipython",
    "version": 3
   },
   "file_extension": ".py",
   "mimetype": "text/x-python",
   "name": "python",
   "nbconvert_exporter": "python",
   "pygments_lexer": "ipython3",
   "version": "3.7.3"
  }
 },
 "nbformat": 4,
 "nbformat_minor": 2
}
